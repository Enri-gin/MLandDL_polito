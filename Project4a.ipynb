{
  "nbformat": 4,
  "nbformat_minor": 0,
  "metadata": {
    "colab": {
      "provenance": [],
      "authorship_tag": "ABX9TyO5VTvLmcbAr81acLhfTTG8",
      "include_colab_link": true
    },
    "kernelspec": {
      "name": "python3",
      "display_name": "Python 3"
    },
    "language_info": {
      "name": "python"
    }
  },
  "cells": [
    {
      "cell_type": "markdown",
      "metadata": {
        "id": "view-in-github",
        "colab_type": "text"
      },
      "source": [
        "<a href=\"https://colab.research.google.com/github/Enri-gin/MLandDL_polito/blob/main/Project4a.ipynb\" target=\"_parent\"><img src=\"https://colab.research.google.com/assets/colab-badge.svg\" alt=\"Open In Colab\"/></a>"
      ]
    },
    {
      "cell_type": "markdown",
      "source": [
        "**Project 4a**"
      ],
      "metadata": {
        "id": "kv8yoJu9CZp0"
      }
    },
    {
      "cell_type": "code",
      "source": [
        "!git clone https://github.com/Mxbonn/visualwakewords.git # Clonazione della repository \n",
        "# Elimina riga 74-75 di 'download_mscoco.sh'manualmente"
      ],
      "metadata": {
        "colab": {
          "base_uri": "https://localhost:8080/"
        },
        "id": "vpJvciCvm9eg",
        "outputId": "94b8f331-309e-4663-f6ee-2ae5500fc5c3"
      },
      "execution_count": 1,
      "outputs": [
        {
          "output_type": "stream",
          "name": "stdout",
          "text": [
            "Cloning into 'visualwakewords'...\n",
            "remote: Enumerating objects: 79, done.\u001b[K\n",
            "remote: Counting objects: 100% (8/8), done.\u001b[K\n",
            "remote: Compressing objects: 100% (7/7), done.\u001b[K\n",
            "remote: Total 79 (delta 1), reused 6 (delta 1), pack-reused 71\u001b[K\n",
            "Unpacking objects: 100% (79/79), 892.43 KiB | 3.53 MiB/s, done.\n"
          ]
        }
      ]
    },
    {
      "cell_type": "code",
      "source": [
        "cd visualwakewords/"
      ],
      "metadata": {
        "colab": {
          "base_uri": "https://localhost:8080/"
        },
        "id": "bjRpJ9KWC-DV",
        "outputId": "75240192-d742-4314-9e4e-09a0d3bed96b"
      },
      "execution_count": 2,
      "outputs": [
        {
          "output_type": "stream",
          "name": "stdout",
          "text": [
            "/content/visualwakewords\n"
          ]
        }
      ]
    },
    {
      "cell_type": "code",
      "source": [
        "!pip install pyvww"
      ],
      "metadata": {
        "id": "tIb3X3z7E-Zq"
      },
      "execution_count": null,
      "outputs": []
    },
    {
      "cell_type": "code",
      "source": [
        "!bash scripts/download_mscoco.sh scripts # Download COCO dataset"
      ],
      "metadata": {
        "colab": {
          "base_uri": "https://localhost:8080/"
        },
        "id": "tkj0dt_JFS4j",
        "outputId": "324a37c5-667e-4eb1-d452-0d6ab3a62ab1"
      },
      "execution_count": 4,
      "outputs": [
        {
          "output_type": "stream",
          "name": "stdout",
          "text": [
            "Downloading train2014.zip to /content/visualwakewords/scripts\n",
            "--2023-05-04 21:28:28--  http://images.cocodataset.org/zips/train2014.zip\n",
            "Resolving images.cocodataset.org (images.cocodataset.org)... 3.5.27.181, 3.5.10.193, 52.216.96.3, ...\n",
            "Connecting to images.cocodataset.org (images.cocodataset.org)|3.5.27.181|:80... connected.\n",
            "HTTP request sent, awaiting response... 200 OK\n",
            "Length: 13510573713 (13G) [application/zip]\n",
            "Saving to: ‘train2014.zip’\n",
            "\n",
            "train2014.zip       100%[===================>]  12.58G  63.0MB/s    in 4m 2s   \n",
            "\n",
            "2023-05-04 21:32:30 (53.3 MB/s) - ‘train2014.zip’ saved [13510573713/13510573713]\n",
            "\n",
            "Unzipping train2014.zip\n",
            "Downloading val2014.zip to /content/visualwakewords/scripts\n",
            "--2023-05-04 21:35:02--  http://images.cocodataset.org/zips/val2014.zip\n",
            "Resolving images.cocodataset.org (images.cocodataset.org)... 3.5.25.195, 52.217.112.249, 54.231.230.153, ...\n",
            "Connecting to images.cocodataset.org (images.cocodataset.org)|3.5.25.195|:80... connected.\n",
            "HTTP request sent, awaiting response... 200 OK\n",
            "Length: 6645013297 (6.2G) [application/zip]\n",
            "Saving to: ‘val2014.zip’\n",
            "\n",
            "val2014.zip         100%[===================>]   6.19G  55.3MB/s    in 1m 50s  \n",
            "\n",
            "2023-05-04 21:36:52 (57.4 MB/s) - ‘val2014.zip’ saved [6645013297/6645013297]\n",
            "\n",
            "Unzipping val2014.zip\n",
            "Downloading annotations_trainval2014.zip to /content/visualwakewords/scripts\n",
            "--2023-05-04 21:38:05--  http://images.cocodataset.org/annotations/annotations_trainval2014.zip\n",
            "Resolving images.cocodataset.org (images.cocodataset.org)... 52.217.42.156, 52.216.42.113, 52.217.14.180, ...\n",
            "Connecting to images.cocodataset.org (images.cocodataset.org)|52.217.42.156|:80... connected.\n",
            "HTTP request sent, awaiting response... 200 OK\n",
            "Length: 252872794 (241M) [application/zip]\n",
            "Saving to: ‘annotations_trainval2014.zip’\n",
            "\n",
            "annotations_trainva 100%[===================>] 241.16M  72.1MB/s    in 3.3s    \n",
            "\n",
            "2023-05-04 21:38:09 (72.1 MB/s) - ‘annotations_trainval2014.zip’ saved [252872794/252872794]\n",
            "\n",
            "Unzipping annotations_trainval2014.zip\n"
          ]
        }
      ]
    },
    {
      "cell_type": "code",
      "source": [
        "!cp -r scripts/train2014/. scripts/all2014\n",
        "!cp -r scripts/val2014/. scripts/all2014"
      ],
      "metadata": {
        "id": "DKalb0oyFUNO"
      },
      "execution_count": 5,
      "outputs": []
    },
    {
      "cell_type": "code",
      "source": [
        "TRAIN_ANNOTATIONS_FILE=\"scripts/annotations/instances_train2014.json\"\n",
        "VAL_ANNOTATIONS_FILE=\"scripts/annotations/instances_val2014.json\"\n",
        "DIR = \"scripts/annotations/\""
      ],
      "metadata": {
        "id": "kgT2J5x4IYOF"
      },
      "execution_count": 6,
      "outputs": []
    },
    {
      "cell_type": "code",
      "source": [
        "!python scripts/create_coco_train_minival_split.py \\\n",
        "  --train_annotations_file=scripts/annotations/instances_train2014.json \\\n",
        "  --val_annotations_file=scripts/annotations/instances_val2014.json \\\n",
        "--output_dir=scripts/annotations/\n"
      ],
      "metadata": {
        "id": "yTCIT8VrJhY5"
      },
      "execution_count": 7,
      "outputs": []
    },
    {
      "cell_type": "code",
      "source": [
        "!python scripts/create_visualwakewords_annotations.py \\\n",
        "   --train_annotations_file=scripts/annotations/instances_maxitrain.json \\\n",
        "   --val_annotations_file=scripts/annotations/instances_minival.json \\\n",
        "   --output_dir=scripts/annotations/ \\\n",
        "   --threshold=0.005 \\\n",
        "   --foreground_class='person'"
      ],
      "metadata": {
        "colab": {
          "base_uri": "https://localhost:8080/"
        },
        "id": "MoldQG00PQvO",
        "outputId": "0dda4c82-20ee-43ff-a2c2-b16dd8f0a914"
      },
      "execution_count": 9,
      "outputs": [
        {
          "output_type": "stream",
          "name": "stdout",
          "text": [
            "Processing /content/visualwakewords/scripts/annotations/instances_maxitrain.json...\n",
            "loading annotations into memory...\n",
            "Done (t=25.52s)\n",
            "creating index...\n",
            "index created!\n",
            "There are 55233 images that now have label person, of the 115228 images in total.\n",
            "Processing /content/visualwakewords/scripts/annotations/instances_minival.json...\n",
            "loading annotations into memory...\n",
            "Done (t=0.86s)\n",
            "creating index...\n",
            "index created!\n",
            "There are 3800 images that now have label person, of the 8059 images in total.\n"
          ]
        }
      ]
    },
    {
      "cell_type": "code",
      "execution_count": 11,
      "metadata": {
        "id": "aNPecAmumTbT",
        "colab": {
          "base_uri": "https://localhost:8080/"
        },
        "outputId": "751922ba-5efe-47e3-bcf3-b076b30d34c2"
      },
      "outputs": [
        {
          "output_type": "stream",
          "name": "stdout",
          "text": [
            "loading annotations into memory...\n",
            "Done (t=7.15s)\n",
            "creating index...\n",
            "index created!\n",
            "loading annotations into memory...\n",
            "Done (t=0.29s)\n",
            "creating index...\n",
            "index created!\n"
          ]
        }
      ],
      "source": [
        "import torch\n",
        "import pyvww\n",
        "\n",
        "train_dataset = pyvww.pytorch.VisualWakeWordsClassification(root=\"scripts/all2014\", \n",
        "                    annFile=\"scripts/annotations/instances_train.json\")\n",
        "\n",
        "validation_dataset = pyvww.pytorch.VisualWakeWordsClassification(root=\"scripts/all2014\", \n",
        "                    annFile=\"scripts/annotations/instances_val.json\")\n"
      ]
    },
    {
      "cell_type": "code",
      "source": [
        "# !zip -r /content/visualwakewords.zip /content/visualwakewords"
      ],
      "metadata": {
        "id": "RhCYh73uzJh7"
      },
      "execution_count": null,
      "outputs": []
    },
    {
      "cell_type": "code",
      "source": [],
      "metadata": {
        "id": "c6wUDiSfx1r6"
      },
      "execution_count": null,
      "outputs": []
    },
    {
      "cell_type": "code",
      "source": [],
      "metadata": {
        "id": "UCWNBng_x1pz"
      },
      "execution_count": null,
      "outputs": []
    },
    {
      "cell_type": "code",
      "source": [],
      "metadata": {
        "id": "28TCxpnRx1nB"
      },
      "execution_count": null,
      "outputs": []
    },
    {
      "cell_type": "code",
      "source": [],
      "metadata": {
        "id": "jHEjuzJ-x1iz"
      },
      "execution_count": null,
      "outputs": []
    },
    {
      "cell_type": "code",
      "source": [],
      "metadata": {
        "id": "3xzQ_cyZx1Zu"
      },
      "execution_count": null,
      "outputs": []
    },
    {
      "cell_type": "code",
      "source": [
        "# import torch.nn as nn\n",
        "# import torch.nn.functional as F\n",
        "\n",
        "# class Model(nn.Module):\n",
        "#     def __init__(self):\n",
        "#         super().__init__()\n",
        "#         self.conv1 = nn.Conv2d(1, 20, 5)\n",
        "#         self.conv2 = nn.Conv2d(20, 20, 5)\n",
        "\n",
        "#     def forward(self, x):\n",
        "#         x = F.relu(self.conv1(x))\n",
        "#         return F.relu(self.conv2(x))"
      ],
      "metadata": {
        "id": "MlkyH0Zamq6H"
      },
      "execution_count": null,
      "outputs": []
    },
    {
      "cell_type": "code",
      "source": [
        "# conv = nn.Conv2d(in_channels=10, out_channels=32, kernel_size=3)\n",
        "# params = sum(p.numel() for p in conv.parameters() if p.requires_grad)\n",
        "\n",
        "# x = torch.rand(5, 10, 50, 50)\n",
        "# out = conv(x)\n",
        "\n",
        "# depth_conv = Conv2d(in_channels=10, out_channels=10, kernel_size=3, groups=10)\n",
        "# point_conv = Conv2d(in_channels=10, out_channels=32, kernel_size=1)\n",
        "\n",
        "# depthwise_separable_conv = torch.nn.Sequential(depth_conv, point_conv)\n",
        "# params_depthwise = sum(p.numel() for p in depthwise_separable_conv.parameters() if p.requires_grad)\n",
        "\n",
        "# out_depthwise = depthwise_separable_conv(x)\n"
      ],
      "metadata": {
        "id": "PqyuKG1ewB6r"
      },
      "execution_count": null,
      "outputs": []
    }
  ]
}